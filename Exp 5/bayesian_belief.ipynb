{
  "nbformat": 4,
  "nbformat_minor": 0,
  "metadata": {
    "colab": {
      "provenance": [],
      "authorship_tag": "ABX9TyNilcEhD5CTrAh5kOwXYeWE",
      "include_colab_link": true
    },
    "kernelspec": {
      "name": "python3",
      "display_name": "Python 3"
    },
    "language_info": {
      "name": "python"
    }
  },
  "cells": [
    {
      "cell_type": "markdown",
      "metadata": {
        "id": "view-in-github",
        "colab_type": "text"
      },
      "source": [
        "<a href=\"https://colab.research.google.com/github/Aatmaj-Zephyr/Machine-Learning-Lab/blob/main/Exp%205/bayesian_belief.ipynb\" target=\"_parent\"><img src=\"https://colab.research.google.com/assets/colab-badge.svg\" alt=\"Open In Colab\"/></a>"
      ]
    },
    {
      "cell_type": "code",
      "execution_count": null,
      "metadata": {
        "id": "sT-O6nnrpsIT"
      },
      "outputs": [],
      "source": [
        "import itertools\n",
        "def get_binary_numbers(n):\n",
        "    if(n==1):\n",
        "      return []\n",
        "    binary_comb =[]\n",
        "    width = len(bin(n)[2:])-1\n",
        "    for i in range(0, n):\n",
        "        binary = bin(i)[2:]\n",
        "        padded_binary = binary.zfill(width)\n",
        "        binary_comb.append(padded_binary)\n",
        "    return binary_comb\n",
        "\n",
        "\n",
        "class event:\n",
        "    table:list[float]\n",
        "    parents:list[int]\n",
        "    def __init__(self,table):\n",
        "        self.table = table\n",
        "    def probability(self,is_true:int)->float:\n",
        "\n",
        "        if(is_true=='1'):\n",
        "            if(self.parents==None):\n",
        "              return self.table[0]\n",
        "            p=0\n",
        "            binary_comb = get_binary_numbers(2**len(self.parents))\n",
        "            i=0\n",
        "            print(binary_comb)\n",
        "            for comb in binary_comb:\n",
        "                #print(i)\n",
        "                p1=1\n",
        "                for parent_id in range(len(self.parents)):\n",
        "\n",
        "                    p1=p1*self.parents[parent_id].probability(comb[parent_id])\n",
        "                    #print(p1)\n",
        "                #print(p1,len(comb))\n",
        "                p1=p1*self.table[i]\n",
        "                p=p+p1\n",
        "\n",
        "                i+=1\n",
        "            return p\n",
        "        if(is_true=='0'):\n",
        "            if(self.parents==None):\n",
        "              return 1-self.table[0]\n",
        "            p=0\n",
        "            binary_comb = get_binary_numbers(2**len(self.parents))\n",
        "            i=0\n",
        "            #print(binary_comb)\n",
        "            for comb in binary_comb:\n",
        "                #print(i)\n",
        "                p1=1\n",
        "                for parent_id in range(len(self.parents)):\n",
        "\n",
        "                    p1=p1*self.parents[parent_id].probability(comb[parent_id])\n",
        "                #print(p1)\n",
        "                #print(p1,comb,len(comb))\n",
        "                p1=p1*(1-self.table[i])\n",
        "                #print((1-self.table[i]))\n",
        "                p=p+p1\n",
        "                i+=1\n",
        "            return p\n",
        "    def cond_probability(self,is_true:int,condition:list[int])->float:\n",
        "              binary_string = ''.join(map(str, condition))  # Convert the list to a string\n",
        "              decimal_number = int(binary_string, 2)  # Convert the binary string to decimal\n",
        "\n",
        "              if(is_true=='1'):\n",
        "\n",
        "                  return self.table[decimal_number]\n",
        "              if(is_true=='0'):\n",
        "\n",
        "                  return 1-self.table[decimal_number]\n",
        "\n",
        "bulgary = event([0.001])\n",
        "bulgary.parents = None\n",
        "earthquake = event([0.002])\n",
        "earthquake.parents = None\n",
        "alarm = event([0.001,0.29,0.94,0.95])\n",
        "alarm.parents=[earthquake,bulgary]\n",
        "john = event([0.05,0.9])\n",
        "john.parents=[alarm]\n",
        "\n",
        "mary = event([0.01,0.7])\n",
        "mary.parents=[alarm]\n",
        "# print(john.probability(\"1\"))\n",
        "# print(alarm.cond_probability(\"1\",[1,1]))\n",
        "# print(john.cond_probability(\"1\",[0]))\n",
        "given = [1,1,1,0,0] # assumes all are given. Else will need to add.\n",
        "events = [john, mary, alarm, earthquake,bulgary]\n",
        "\n",
        "def get_conditional_probability(given,events):\n",
        "  p=1\n",
        "  i = -1\n",
        "  for event in events:\n",
        "    i+=1\n",
        "    if(event.parents == None):\n",
        "      p =p*event.probability(str(given[i]))\n",
        "    else:\n",
        "      given_list = []\n",
        "      for parent in event.parents:\n",
        "        given_list.append(given[events.index(parent)])\n",
        "\n",
        "      # print(given_list)\n",
        "      p=p*event.cond_probability(str(given[i]),given_list)\n",
        "      # print(p)\n",
        "  return p\n",
        "\n",
        "# print(alarm.probability(\"1\"))\n",
        "# print(john.probability(\"1\",1)*mary.probability(\"1\")*alarm.probability(\"1\")*earthquake.probability(\"0\")*bulgary.probability(\"0\"))\n",
        "\n"
      ]
    },
    {
      "cell_type": "code",
      "source": [
        "### Probability that john calls.\n",
        "print(john.probability(\"1\"))"
      ],
      "metadata": {
        "id": "HG5YiZEn-K4z",
        "colab": {
          "base_uri": "https://localhost:8080/"
        },
        "outputId": "d2e182a3-10eb-4859-be72-f01bcff0bdea"
      },
      "execution_count": null,
      "outputs": [
        {
          "output_type": "stream",
          "name": "stdout",
          "text": [
            "['0', '1']\n",
            "['00', '01', '10', '11']\n",
            "0.05269147569999999\n"
          ]
        }
      ]
    },
    {
      "cell_type": "code",
      "source": [
        "### Probability that j^m^a^~b^~e\n",
        "print(get_conditional_probability(given = [1,1,1,0,0],\n",
        "events = [john, mary, alarm, earthquake,bulgary]))"
      ],
      "metadata": {
        "colab": {
          "base_uri": "https://localhost:8080/"
        },
        "id": "25EY5yAoYw4Q",
        "outputId": "a2245969-f50b-45fb-bbe1-0c8acd337312"
      },
      "execution_count": null,
      "outputs": [
        {
          "output_type": "stream",
          "name": "stdout",
          "text": [
            "0.00062811126\n"
          ]
        }
      ]
    },
    {
      "cell_type": "code",
      "source": [],
      "metadata": {
        "id": "emQeHRT-ZPlG"
      },
      "execution_count": null,
      "outputs": []
    }
  ]
}