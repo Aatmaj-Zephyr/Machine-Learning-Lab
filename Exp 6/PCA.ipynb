{
  "nbformat": 4,
  "nbformat_minor": 0,
  "metadata": {
    "colab": {
      "provenance": [],
      "authorship_tag": "ABX9TyO4wnqwcVzRJp6iqb7SEpk9",
      "include_colab_link": true
    },
    "kernelspec": {
      "name": "python3",
      "display_name": "Python 3"
    },
    "language_info": {
      "name": "python"
    }
  },
  "cells": [
    {
      "cell_type": "markdown",
      "metadata": {
        "id": "view-in-github",
        "colab_type": "text"
      },
      "source": [
        "<a href=\"https://colab.research.google.com/github/Aatmaj-Zephyr/Machine-Learning-Lab/blob/main/Exp%206/PCA.ipynb\" target=\"_parent\"><img src=\"https://colab.research.google.com/assets/colab-badge.svg\" alt=\"Open In Colab\"/></a>"
      ]
    },
    {
      "cell_type": "code",
      "source": [
        "import numpy as np"
      ],
      "metadata": {
        "id": "AdBSogIjzjqD"
      },
      "execution_count": null,
      "outputs": []
    },
    {
      "cell_type": "code",
      "execution_count": null,
      "metadata": {
        "id": "e2z_ofaryg2I"
      },
      "outputs": [],
      "source": [
        "data=[[4,8,13,7],[11,4,5,14]]"
      ]
    },
    {
      "cell_type": "code",
      "source": [
        "\n",
        "#step 1\n",
        "d = len(data) # Number of features\n",
        "n = len(data[1]) # Number of Samples\n",
        "\n"
      ],
      "metadata": {
        "id": "JFUSZ3wezAYY"
      },
      "execution_count": null,
      "outputs": []
    },
    {
      "cell_type": "code",
      "source": [
        "# step 3\n",
        "mean = np.mean(data,axis = 1)\n",
        "assert len(mean) == d"
      ],
      "metadata": {
        "id": "jj9PQeUUzSV9"
      },
      "execution_count": null,
      "outputs": []
    },
    {
      "cell_type": "code",
      "source": [
        "#funcion to calculate covariance of dimentions d1 and d2\n",
        "\n",
        "def cov(x,y):\n",
        "  s=0\n",
        "  for i in range(n):\n",
        "    s=s+(mean[x]-data[x][i])*(mean[y]-data[y][i])\n",
        "  s=s/(n-1)\n",
        "  return s\n",
        "\n"
      ],
      "metadata": {
        "id": "Lss41_E0z6bV"
      },
      "execution_count": null,
      "outputs": []
    },
    {
      "cell_type": "code",
      "source": [
        "# step 4: calculate covariance matrix\n",
        "covariance = np.zeros((d,d))\n",
        "for i in range(d):\n",
        "  for j in range(d):\n",
        "    covariance[i][j] = cov(i,j)\n",
        "covariance"
      ],
      "metadata": {
        "colab": {
          "base_uri": "https://localhost:8080/"
        },
        "id": "g_Yp0R08zqNO",
        "outputId": "e8627a10-9089-4f7e-bff9-c023950b2951"
      },
      "execution_count": null,
      "outputs": [
        {
          "output_type": "execute_result",
          "data": {
            "text/plain": [
              "array([[ 14., -11.],\n",
              "       [-11.,  23.]])"
            ]
          },
          "metadata": {},
          "execution_count": 22
        }
      ]
    },
    {
      "cell_type": "code",
      "source": [
        "# step 5 calculate eigenvalue & eigenvector\n",
        "from numpy.linalg import eig\n",
        "\n",
        "lambda_1,v= eig(covariance)\n",
        "print(lambda_1)\n",
        "print(\" \")\n",
        "print(v)"
      ],
      "metadata": {
        "colab": {
          "base_uri": "https://localhost:8080/"
        },
        "id": "Dkp6GxZD0ree",
        "outputId": "6dc3796f-32e1-4908-bff0-eb0c3cd647ac"
      },
      "execution_count": null,
      "outputs": [
        {
          "output_type": "stream",
          "name": "stdout",
          "text": [
            "[ 6.61513568 30.38486432]\n",
            " \n",
            "[[-0.83025082  0.55738997]\n",
            " [-0.55738997 -0.83025082]]\n"
          ]
        }
      ]
    },
    {
      "cell_type": "code",
      "source": [
        "#step 6: select k principle components\n",
        "k=1\n",
        "selected_vectors=v[np.argsort(lambda_1)[::-1]] # sort with respect to k\n",
        "selected_vectors=selected_vectors[:1]\n",
        "selected_vectors"
      ],
      "metadata": {
        "colab": {
          "base_uri": "https://localhost:8080/"
        },
        "id": "9B4y6trjD0t5",
        "outputId": "5623c4e4-e4c7-4319-8548-0d25af01d8f3"
      },
      "execution_count": null,
      "outputs": [
        {
          "output_type": "execute_result",
          "data": {
            "text/plain": [
              "array([[-0.55738997, -0.83025082]])"
            ]
          },
          "metadata": {},
          "execution_count": 65
        }
      ]
    },
    {
      "cell_type": "code",
      "source": [
        "#step 7: calculation of principle component\n",
        "\n",
        "new_data = selected_vectors@(data-mean.reshape((2,1)))\n",
        "new_data"
      ],
      "metadata": {
        "colab": {
          "base_uri": "https://localhost:8080/"
        },
        "id": "x4bHcv5YBvaC",
        "outputId": "e3d0f701-0cce-4c54-dbfd-ca29ca2650c5"
      },
      "execution_count": null,
      "outputs": [
        {
          "output_type": "execute_result",
          "data": {
            "text/plain": [
              "array([[ 0.15393283,  3.73612869,  0.11892802, -4.00898954]])"
            ]
          },
          "metadata": {},
          "execution_count": 67
        }
      ]
    }
  ]
}