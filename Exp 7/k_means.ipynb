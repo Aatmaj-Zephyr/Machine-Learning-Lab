{
  "nbformat": 4,
  "nbformat_minor": 0,
  "metadata": {
    "colab": {
      "provenance": [],
      "authorship_tag": "ABX9TyN15YFhHUsQJvbaeI0N0TVE",
      "include_colab_link": true
    },
    "kernelspec": {
      "name": "python3",
      "display_name": "Python 3"
    },
    "language_info": {
      "name": "python"
    }
  },
  "cells": [
    {
      "cell_type": "markdown",
      "metadata": {
        "id": "view-in-github",
        "colab_type": "text"
      },
      "source": [
        "<a href=\"https://colab.research.google.com/github/Aatmaj-Zephyr/Machine-Learning-Lab/blob/main/Exp%207/k_means.ipynb\" target=\"_parent\"><img src=\"https://colab.research.google.com/assets/colab-badge.svg\" alt=\"Open In Colab\"/></a>"
      ]
    },
    {
      "cell_type": "code",
      "execution_count": 94,
      "metadata": {
        "id": "XSWpK0u3ewWY"
      },
      "outputs": [],
      "source": [
        "data=[[1,2],[3,4],[3,3],[5,6],[6,7],[5,7],[7,2]]\n",
        "\n"
      ]
    },
    {
      "cell_type": "code",
      "source": [
        "k = 2\n",
        "from random import randrange\n",
        "centroids = [data[randrange(0,len(data)-1)] for _ in range(k)] # choose k random data points\n",
        "\n",
        "print(centroids)\n"
      ],
      "metadata": {
        "colab": {
          "base_uri": "https://localhost:8080/"
        },
        "id": "5Susg7M1fVrM",
        "outputId": "f6f01ba7-4ab0-4391-edef-c9cee19288f6"
      },
      "execution_count": 95,
      "outputs": [
        {
          "output_type": "stream",
          "name": "stdout",
          "text": [
            "[[1, 2], [3, 3]]\n"
          ]
        }
      ]
    },
    {
      "cell_type": "code",
      "source": [
        "def distance(x,y):\n",
        "\n",
        "  return sum([(x[i]-y[i])**2 for i in range(len(x))])\n"
      ],
      "metadata": {
        "id": "7zULDFOzfw6t"
      },
      "execution_count": 96,
      "outputs": []
    },
    {
      "cell_type": "code",
      "source": [
        "def calculate_centroid(cluster):\n",
        "\n",
        "  centroid = []\n",
        "  for dimention in range(len(cluster[0])): # eg 3 for 3d data\n",
        "    centroid.append(0)\n",
        "    for data_point in cluster:\n",
        "      centroid[dimention] +=data_point[dimention]\n",
        "    centroid[dimention] /=len(cluster)\n",
        "  return centroid\n",
        "\n",
        "\n",
        "assert calculate_centroid([[1,2],[3,4],[5,0]]) == [3,2]"
      ],
      "metadata": {
        "id": "BTniyGasig_y"
      },
      "execution_count": 97,
      "outputs": []
    },
    {
      "cell_type": "code",
      "source": [
        "old_clusters = []\n",
        "\n",
        "for iter in range(100):\n",
        "  clusters = [[] for _ in range(k)]\n",
        "  for data_point in data:\n",
        "    max = 10000\n",
        "\n",
        "    temp_cluster = -1\n",
        "    i = -1\n",
        "    for centroid in centroids:\n",
        "      i+=1\n",
        "      if(distance(data_point,centroid)<max):\n",
        "\n",
        "        max = distance(data_point,centroid)\n",
        "\n",
        "        temp_cluster = i\n",
        "\n",
        "    clusters[temp_cluster].append(data_point)\n",
        "\n",
        "  centroids = [calculate_centroid(cluster) for cluster in clusters ]\n",
        "  if(old_clusters == clusters):\n",
        "    break\n",
        "  else:\n",
        "    old_clusters = clusters\n",
        "\n"
      ],
      "metadata": {
        "id": "g6CeWP3FfL6g"
      },
      "execution_count": 98,
      "outputs": []
    },
    {
      "cell_type": "code",
      "source": [
        "print(clusters)"
      ],
      "metadata": {
        "colab": {
          "base_uri": "https://localhost:8080/"
        },
        "id": "8szaGQS4gt6Z",
        "outputId": "16ba1cab-8bac-4eb6-f466-1d1c6fd85a07"
      },
      "execution_count": 99,
      "outputs": [
        {
          "output_type": "stream",
          "name": "stdout",
          "text": [
            "[[[1, 2], [3, 4], [3, 3]], [[5, 6], [6, 7], [5, 7], [7, 2]]]\n"
          ]
        }
      ]
    },
    {
      "cell_type": "code",
      "source": [],
      "metadata": {
        "id": "fXwY30C-geMr"
      },
      "execution_count": 99,
      "outputs": []
    }
  ]
}